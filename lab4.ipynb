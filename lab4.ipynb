{
 "cells": [
  {
   "cell_type": "markdown",
   "id": "6e7ea6a6",
   "metadata": {},
   "source": [
    "# import lib"
   ]
  },
  {
   "cell_type": "code",
   "execution_count": 3,
   "id": "34d2df99",
   "metadata": {},
   "outputs": [
    {
     "name": "stderr",
     "output_type": "stream",
     "text": [
      "/home/ec2-user/anaconda3/envs/python3/lib/python3.6/site-packages/psycopg2/__init__.py:144: UserWarning: The psycopg2 wheel package will be renamed from release 2.8; in order to keep installing from binary please use \"pip install psycopg2-binary\" instead. For details see: <http://initd.org/psycopg/docs/install.html#binary-install-from-pypi>.\n",
      "  \"\"\")\n"
     ]
    }
   ],
   "source": [
    "import pandas\n",
    "import psycopg2\n",
    "import configparser"
   ]
  },
  {
   "cell_type": "markdown",
   "id": "80512912",
   "metadata": {},
   "source": [
    "# connect to db"
   ]
  },
  {
   "cell_type": "code",
   "execution_count": 4,
   "id": "c89c9dbe",
   "metadata": {},
   "outputs": [],
   "source": [
    "config = configparser.ConfigParser()\n",
    "config.read('config.ini')\n",
    "\n",
    "host=config['myaws']['host']\n",
    "db=config['myaws']['db']\n",
    "user=config['myaws']['user']\n",
    "pwd = config['myaws']['pwd']\n",
    "\n",
    "conn = psycopg2.connect(  host=host,\n",
    "                       user=user,\n",
    "                       password = pwd,\n",
    "                       dbname=db)"
   ]
  },
  {
   "cell_type": "code",
   "execution_count": 5,
   "id": "ae0d5294",
   "metadata": {},
   "outputs": [],
   "source": [
    "cur=conn.cursor()"
   ]
  },
  {
   "cell_type": "markdown",
   "id": "7a718def",
   "metadata": {},
   "source": [
    "# q1"
   ]
  },
  {
   "cell_type": "code",
   "execution_count": 6,
   "id": "662cbd80",
   "metadata": {},
   "outputs": [],
   "source": [
    "q1_sql = \"\"\"\n",
    "            select * from gp14.student\n",
    "            \"\"\""
   ]
  },
  {
   "cell_type": "code",
   "execution_count": 7,
   "id": "8b6b5529",
   "metadata": {},
   "outputs": [
    {
     "data": {
      "text/html": [
       "<div>\n",
       "<style scoped>\n",
       "    .dataframe tbody tr th:only-of-type {\n",
       "        vertical-align: middle;\n",
       "    }\n",
       "\n",
       "    .dataframe tbody tr th {\n",
       "        vertical-align: top;\n",
       "    }\n",
       "\n",
       "    .dataframe thead th {\n",
       "        text-align: right;\n",
       "    }\n",
       "</style>\n",
       "<table border=\"1\" class=\"dataframe\">\n",
       "  <thead>\n",
       "    <tr style=\"text-align: right;\">\n",
       "      <th></th>\n",
       "      <th>s_email</th>\n",
       "      <th>s_name</th>\n",
       "      <th>major</th>\n",
       "    </tr>\n",
       "  </thead>\n",
       "  <tbody>\n",
       "    <tr>\n",
       "      <th>0</th>\n",
       "      <td>rendalr@jmu.edu</td>\n",
       "      <td>Lauryn Renda</td>\n",
       "      <td>IA</td>\n",
       "    </tr>\n",
       "    <tr>\n",
       "      <th>1</th>\n",
       "      <td>getzaj@jmu.edu</td>\n",
       "      <td>Alyssa Getz</td>\n",
       "      <td>IA</td>\n",
       "    </tr>\n",
       "    <tr>\n",
       "      <th>2</th>\n",
       "      <td>pichaem@jmu.edu</td>\n",
       "      <td>Elizabeth Picha</td>\n",
       "      <td>IA</td>\n",
       "    </tr>\n",
       "    <tr>\n",
       "      <th>3</th>\n",
       "      <td>roberttl@jmu.edu</td>\n",
       "      <td>Thea Robertson</td>\n",
       "      <td>IA</td>\n",
       "    </tr>\n",
       "    <tr>\n",
       "      <th>4</th>\n",
       "      <td>laneth@jmu.edu</td>\n",
       "      <td>Thomas Lane</td>\n",
       "      <td>IA</td>\n",
       "    </tr>\n",
       "    <tr>\n",
       "      <th>5</th>\n",
       "      <td>stetinjr@jmu.edu</td>\n",
       "      <td>Jenna Stetina</td>\n",
       "      <td>IA</td>\n",
       "    </tr>\n",
       "  </tbody>\n",
       "</table>\n",
       "</div>"
      ],
      "text/plain": [
       "            s_email           s_name major\n",
       "0   rendalr@jmu.edu     Lauryn Renda    IA\n",
       "1    getzaj@jmu.edu      Alyssa Getz    IA\n",
       "2   pichaem@jmu.edu  Elizabeth Picha    IA\n",
       "3  roberttl@jmu.edu   Thea Robertson    IA\n",
       "4    laneth@jmu.edu      Thomas Lane    IA\n",
       "5  stetinjr@jmu.edu    Jenna Stetina    IA"
      ]
     },
     "execution_count": 7,
     "metadata": {},
     "output_type": "execute_result"
    }
   ],
   "source": [
    "df = pandas.read_sql_query(q1_sql,conn)\n",
    "df[:]"
   ]
  },
  {
   "cell_type": "markdown",
   "id": "ea708317",
   "metadata": {},
   "source": [
    "# q2"
   ]
  },
  {
   "cell_type": "code",
   "execution_count": 8,
   "id": "3306f9bd",
   "metadata": {},
   "outputs": [],
   "source": [
    "q2_sql = \"\"\"\n",
    "        select gp14.professor.p_name,\n",
    "        gp14.course.c_name\n",
    "        from gp14.professor\n",
    "        inner join gp14.course\n",
    "        on gp14.professor.p_email = gp14.course.p_email\n",
    "        \"\"\""
   ]
  },
  {
   "cell_type": "code",
   "execution_count": 9,
   "id": "97697e8f",
   "metadata": {},
   "outputs": [
    {
     "data": {
      "text/html": [
       "<div>\n",
       "<style scoped>\n",
       "    .dataframe tbody tr th:only-of-type {\n",
       "        vertical-align: middle;\n",
       "    }\n",
       "\n",
       "    .dataframe tbody tr th {\n",
       "        vertical-align: top;\n",
       "    }\n",
       "\n",
       "    .dataframe thead th {\n",
       "        text-align: right;\n",
       "    }\n",
       "</style>\n",
       "<table border=\"1\" class=\"dataframe\">\n",
       "  <thead>\n",
       "    <tr style=\"text-align: right;\">\n",
       "      <th></th>\n",
       "      <th>p_name</th>\n",
       "      <th>c_name</th>\n",
       "    </tr>\n",
       "  </thead>\n",
       "  <tbody>\n",
       "    <tr>\n",
       "      <th>0</th>\n",
       "      <td>Noel Hendrickson</td>\n",
       "      <td>Counterfactual Reasoning</td>\n",
       "    </tr>\n",
       "    <tr>\n",
       "      <th>1</th>\n",
       "      <td>Stephen Marrin</td>\n",
       "      <td>Seminar</td>\n",
       "    </tr>\n",
       "    <tr>\n",
       "      <th>2</th>\n",
       "      <td>Noel Hendrickson</td>\n",
       "      <td>Causal Analysis</td>\n",
       "    </tr>\n",
       "    <tr>\n",
       "      <th>3</th>\n",
       "      <td>p_new_n</td>\n",
       "      <td>c_new_name</td>\n",
       "    </tr>\n",
       "    <tr>\n",
       "      <th>4</th>\n",
       "      <td>p_new_n</td>\n",
       "      <td>Data mining</td>\n",
       "    </tr>\n",
       "    <tr>\n",
       "      <th>5</th>\n",
       "      <td>p_new_n</td>\n",
       "      <td>Money Laundering</td>\n",
       "    </tr>\n",
       "  </tbody>\n",
       "</table>\n",
       "</div>"
      ],
      "text/plain": [
       "             p_name                    c_name\n",
       "0  Noel Hendrickson  Counterfactual Reasoning\n",
       "1    Stephen Marrin                   Seminar\n",
       "2  Noel Hendrickson           Causal Analysis\n",
       "3           p_new_n                c_new_name\n",
       "4           p_new_n               Data mining\n",
       "5           p_new_n          Money Laundering"
      ]
     },
     "execution_count": 9,
     "metadata": {},
     "output_type": "execute_result"
    }
   ],
   "source": [
    "df=pandas.read_sql_query(q2_sql,conn)\n",
    "df[:]"
   ]
  },
  {
   "cell_type": "markdown",
   "id": "4af17d8f",
   "metadata": {},
   "source": [
    "# q3"
   ]
  },
  {
   "cell_type": "code",
   "execution_count": 10,
   "id": "b79514bb",
   "metadata": {},
   "outputs": [],
   "source": [
    "q3_sql = \"\"\"\n",
    "        select c_number,\n",
    "        count(c_number) as num_enroll\n",
    "        from gp14.enroll_list\n",
    "        group by c_number\n",
    "        \"\"\""
   ]
  },
  {
   "cell_type": "code",
   "execution_count": 11,
   "id": "ed1793b8",
   "metadata": {},
   "outputs": [
    {
     "data": {
      "text/html": [
       "<div>\n",
       "<style scoped>\n",
       "    .dataframe tbody tr th:only-of-type {\n",
       "        vertical-align: middle;\n",
       "    }\n",
       "\n",
       "    .dataframe tbody tr th {\n",
       "        vertical-align: top;\n",
       "    }\n",
       "\n",
       "    .dataframe thead th {\n",
       "        text-align: right;\n",
       "    }\n",
       "</style>\n",
       "<table border=\"1\" class=\"dataframe\">\n",
       "  <thead>\n",
       "    <tr style=\"text-align: right;\">\n",
       "      <th></th>\n",
       "      <th>c_number</th>\n",
       "      <th>num_enroll</th>\n",
       "    </tr>\n",
       "  </thead>\n",
       "  <tbody>\n",
       "    <tr>\n",
       "      <th>0</th>\n",
       "      <td>ia313</td>\n",
       "      <td>2</td>\n",
       "    </tr>\n",
       "    <tr>\n",
       "      <th>1</th>\n",
       "      <td>ia312</td>\n",
       "      <td>2</td>\n",
       "    </tr>\n",
       "    <tr>\n",
       "      <th>2</th>\n",
       "      <td>ia340</td>\n",
       "      <td>3</td>\n",
       "    </tr>\n",
       "    <tr>\n",
       "      <th>3</th>\n",
       "      <td>ia300</td>\n",
       "      <td>3</td>\n",
       "    </tr>\n",
       "  </tbody>\n",
       "</table>\n",
       "</div>"
      ],
      "text/plain": [
       "  c_number  num_enroll\n",
       "0    ia313           2\n",
       "1    ia312           2\n",
       "2    ia340           3\n",
       "3    ia300           3"
      ]
     },
     "execution_count": 11,
     "metadata": {},
     "output_type": "execute_result"
    }
   ],
   "source": [
    "df=pandas.read_sql_query(q3_sql,conn)\n",
    "df[:]"
   ]
  },
  {
   "cell_type": "code",
   "execution_count": 12,
   "id": "7a37d37b",
   "metadata": {},
   "outputs": [
    {
     "name": "stderr",
     "output_type": "stream",
     "text": [
      "Matplotlib is building the font cache; this may take a moment.\n"
     ]
    },
    {
     "data": {
      "text/plain": [
       "<AxesSubplot:xlabel='c_number'>"
      ]
     },
     "execution_count": 12,
     "metadata": {},
     "output_type": "execute_result"
    },
    {
     "data": {
      "image/png": "[encoded data removed]",
      "text/plain": [
       "<Figure size 432x288 with 1 Axes>"
      ]
     },
     "metadata": {
      "needs_background": "light"
     },
     "output_type": "display_data"
    }
   ],
   "source": [
    "df.plot.bar(x='c_number',y='num_enroll')"
   ]
  },
  {
   "cell_type": "markdown",
   "id": "5b850669",
   "metadata": {},
   "source": [
    "# q4"
   ]
  },
  {
   "cell_type": "code",
   "execution_count": 13,
   "id": "7e473586",
   "metadata": {},
   "outputs": [],
   "source": [
    "q4_sql = \"\"\"\n",
    "        select gp14.professor.p_name,\n",
    "        count(gp14.course.c_name) as num_course\n",
    "        from gp14.professor\n",
    "        inner join gp14.course\n",
    "        on gp14.professor.p_email = gp14.course.p_email\n",
    "        group by gp14.professor.p_name\n",
    "        \"\"\""
   ]
  },
  {
   "cell_type": "code",
   "execution_count": 14,
   "id": "c349dec8",
   "metadata": {},
   "outputs": [
    {
     "data": {
      "text/html": [
       "<div>\n",
       "<style scoped>\n",
       "    .dataframe tbody tr th:only-of-type {\n",
       "        vertical-align: middle;\n",
       "    }\n",
       "\n",
       "    .dataframe tbody tr th {\n",
       "        vertical-align: top;\n",
       "    }\n",
       "\n",
       "    .dataframe thead th {\n",
       "        text-align: right;\n",
       "    }\n",
       "</style>\n",
       "<table border=\"1\" class=\"dataframe\">\n",
       "  <thead>\n",
       "    <tr style=\"text-align: right;\">\n",
       "      <th></th>\n",
       "      <th>p_name</th>\n",
       "      <th>num_course</th>\n",
       "    </tr>\n",
       "  </thead>\n",
       "  <tbody>\n",
       "    <tr>\n",
       "      <th>0</th>\n",
       "      <td>Noel Hendrickson</td>\n",
       "      <td>2</td>\n",
       "    </tr>\n",
       "    <tr>\n",
       "      <th>1</th>\n",
       "      <td>p_new_n</td>\n",
       "      <td>3</td>\n",
       "    </tr>\n",
       "    <tr>\n",
       "      <th>2</th>\n",
       "      <td>Stephen Marrin</td>\n",
       "      <td>1</td>\n",
       "    </tr>\n",
       "  </tbody>\n",
       "</table>\n",
       "</div>"
      ],
      "text/plain": [
       "             p_name  num_course\n",
       "0  Noel Hendrickson           2\n",
       "1           p_new_n           3\n",
       "2    Stephen Marrin           1"
      ]
     },
     "execution_count": 14,
     "metadata": {},
     "output_type": "execute_result"
    }
   ],
   "source": [
    "df=pandas.read_sql_query(q4_sql,conn)\n",
    "df[:]"
   ]
  },
  {
   "cell_type": "code",
   "execution_count": 15,
   "id": "675350f5",
   "metadata": {},
   "outputs": [
    {
     "data": {
      "text/plain": [
       "<AxesSubplot:xlabel='p_name'>"
      ]
     },
     "execution_count": 15,
     "metadata": {},
     "output_type": "execute_result"
    },
    {
     "data": {
      "image/png": "[encoded data removed]",
      "text/plain": [
       "<Figure size 432x288 with 1 Axes>"
      ]
     },
     "metadata": {
      "needs_background": "light"
     },
     "output_type": "display_data"
    }
   ],
   "source": [
    "df.plot.bar(x='p_name',y='num_course')"
   ]
  },
  {
   "cell_type": "markdown",
   "id": "e15fb6ab",
   "metadata": {},
   "source": [
    "# q5"
   ]
  },
  {
   "cell_type": "code",
   "execution_count": 16,
   "id": "96c85ac9",
   "metadata": {},
   "outputs": [
    {
     "name": "stdout",
     "output_type": "stream",
     "text": [
      "\n",
      "            insert into gp14.professor(p_email,p_name,p_office)\n",
      "            values('new_lab4_email','new_p_lab4_name','new_lab4_o')\n",
      "            \n"
     ]
    }
   ],
   "source": [
    "q5_insert_professor_sql = \"\"\"\n",
    "            insert into gp14.professor(p_email,p_name,p_office)\n",
    "            values('{}','{}','{}')\n",
    "            \"\"\".format('new_lab4_email','new_p_lab4_name','new_lab4_o')\n",
    "print(q5_insert_professor_sql)"
   ]
  },
  {
   "cell_type": "code",
   "execution_count": 17,
   "id": "bece6499",
   "metadata": {},
   "outputs": [],
   "source": [
    "cur.execute(q5_insert_professor_sql)"
   ]
  },
  {
   "cell_type": "code",
   "execution_count": 18,
   "id": "7f3156d8",
   "metadata": {},
   "outputs": [],
   "source": [
    "conn.commit()"
   ]
  },
  {
   "cell_type": "code",
   "execution_count": 19,
   "id": "ce6d395d",
   "metadata": {},
   "outputs": [
    {
     "data": {
      "text/html": [
       "<div>\n",
       "<style scoped>\n",
       "    .dataframe tbody tr th:only-of-type {\n",
       "        vertical-align: middle;\n",
       "    }\n",
       "\n",
       "    .dataframe tbody tr th {\n",
       "        vertical-align: top;\n",
       "    }\n",
       "\n",
       "    .dataframe thead th {\n",
       "        text-align: right;\n",
       "    }\n",
       "</style>\n",
       "<table border=\"1\" class=\"dataframe\">\n",
       "  <thead>\n",
       "    <tr style=\"text-align: right;\">\n",
       "      <th></th>\n",
       "      <th>p_email</th>\n",
       "      <th>p_name</th>\n",
       "      <th>p_office</th>\n",
       "    </tr>\n",
       "  </thead>\n",
       "  <tbody>\n",
       "    <tr>\n",
       "      <th>0</th>\n",
       "      <td>hendrinx@jmu.edu</td>\n",
       "      <td>Noel Hendrickson</td>\n",
       "      <td>125</td>\n",
       "    </tr>\n",
       "    <tr>\n",
       "      <th>1</th>\n",
       "      <td>bortolzj@jmu.edu</td>\n",
       "      <td>Zachary Bortolot</td>\n",
       "      <td>126</td>\n",
       "    </tr>\n",
       "    <tr>\n",
       "      <th>2</th>\n",
       "      <td>marrinsp@jmu.edu</td>\n",
       "      <td>Stephen Marrin</td>\n",
       "      <td>127</td>\n",
       "    </tr>\n",
       "    <tr>\n",
       "      <th>3</th>\n",
       "      <td>p_new_e</td>\n",
       "      <td>p_new_n</td>\n",
       "      <td>)_new_o</td>\n",
       "    </tr>\n",
       "    <tr>\n",
       "      <th>4</th>\n",
       "      <td>new_lab4_email</td>\n",
       "      <td>new_p_lab4_name</td>\n",
       "      <td>new_lab4_o</td>\n",
       "    </tr>\n",
       "  </tbody>\n",
       "</table>\n",
       "</div>"
      ],
      "text/plain": [
       "            p_email            p_name    p_office\n",
       "0  hendrinx@jmu.edu  Noel Hendrickson         125\n",
       "1  bortolzj@jmu.edu  Zachary Bortolot         126\n",
       "2  marrinsp@jmu.edu    Stephen Marrin         127\n",
       "3           p_new_e           p_new_n     )_new_o\n",
       "4    new_lab4_email   new_p_lab4_name  new_lab4_o"
      ]
     },
     "execution_count": 19,
     "metadata": {},
     "output_type": "execute_result"
    }
   ],
   "source": [
    "df=pandas.read_sql_query('select * from gp14.professor',conn)\n",
    "df[:]"
   ]
  },
  {
   "cell_type": "code",
   "execution_count": 20,
   "id": "a6e29179",
   "metadata": {},
   "outputs": [
    {
     "name": "stdout",
     "output_type": "stream",
     "text": [
      "\n",
      "            insert into gp14.course(c_number,c_name,c_room,p_email)\n",
      "            values('new_lab4_c','new_lab4_n','new_lab4_r','new_lab4_email')\n",
      "            \n"
     ]
    }
   ],
   "source": [
    "q5_insert_course_sql = \"\"\"\n",
    "            insert into gp14.course(c_number,c_name,c_room,p_email)\n",
    "            values('{}','{}','{}','{}')\n",
    "            \"\"\".format('new_lab4_c','new_lab4_n','new_lab4_r','new_lab4_email')\n",
    "print(q5_insert_course_sql)"
   ]
  },
  {
   "cell_type": "code",
   "execution_count": 21,
   "id": "f845595d",
   "metadata": {},
   "outputs": [],
   "source": [
    "cur.execute(q5_insert_course_sql)"
   ]
  },
  {
   "cell_type": "code",
   "execution_count": 22,
   "id": "5c8e1897",
   "metadata": {},
   "outputs": [],
   "source": [
    "conn.commit()"
   ]
  },
  {
   "cell_type": "code",
   "execution_count": 23,
   "id": "ecb1dc3b",
   "metadata": {},
   "outputs": [
    {
     "data": {
      "text/html": [
       "<div>\n",
       "<style scoped>\n",
       "    .dataframe tbody tr th:only-of-type {\n",
       "        vertical-align: middle;\n",
       "    }\n",
       "\n",
       "    .dataframe tbody tr th {\n",
       "        vertical-align: top;\n",
       "    }\n",
       "\n",
       "    .dataframe thead th {\n",
       "        text-align: right;\n",
       "    }\n",
       "</style>\n",
       "<table border=\"1\" class=\"dataframe\">\n",
       "  <thead>\n",
       "    <tr style=\"text-align: right;\">\n",
       "      <th></th>\n",
       "      <th>c_number</th>\n",
       "      <th>c_name</th>\n",
       "      <th>c_room</th>\n",
       "      <th>p_email</th>\n",
       "    </tr>\n",
       "  </thead>\n",
       "  <tbody>\n",
       "    <tr>\n",
       "      <th>0</th>\n",
       "      <td>ia313</td>\n",
       "      <td>Counterfactual Reasoning</td>\n",
       "      <td>engeo 2010</td>\n",
       "      <td>hendrinx@jmu.edu</td>\n",
       "    </tr>\n",
       "    <tr>\n",
       "      <th>1</th>\n",
       "      <td>ia300</td>\n",
       "      <td>Seminar</td>\n",
       "      <td>isat 124</td>\n",
       "      <td>marrinsp@jmu.edu</td>\n",
       "    </tr>\n",
       "    <tr>\n",
       "      <th>2</th>\n",
       "      <td>ia312</td>\n",
       "      <td>Causal Analysis</td>\n",
       "      <td>isat 120</td>\n",
       "      <td>hendrinx@jmu.edu</td>\n",
       "    </tr>\n",
       "    <tr>\n",
       "      <th>3</th>\n",
       "      <td>c_new_n</td>\n",
       "      <td>c_new_name</td>\n",
       "      <td>c_new_r</td>\n",
       "      <td>p_new_e</td>\n",
       "    </tr>\n",
       "    <tr>\n",
       "      <th>4</th>\n",
       "      <td>ia340</td>\n",
       "      <td>Data mining</td>\n",
       "      <td>engeo 2005</td>\n",
       "      <td>p_new_e</td>\n",
       "    </tr>\n",
       "    <tr>\n",
       "      <th>5</th>\n",
       "      <td>ia480</td>\n",
       "      <td>Money Laundering</td>\n",
       "      <td>engeo 2050</td>\n",
       "      <td>p_new_e</td>\n",
       "    </tr>\n",
       "    <tr>\n",
       "      <th>6</th>\n",
       "      <td>new_lab4_c</td>\n",
       "      <td>new_lab4_n</td>\n",
       "      <td>new_lab4_r</td>\n",
       "      <td>new_lab4_email</td>\n",
       "    </tr>\n",
       "  </tbody>\n",
       "</table>\n",
       "</div>"
      ],
      "text/plain": [
       "     c_number                    c_name      c_room           p_email\n",
       "0       ia313  Counterfactual Reasoning  engeo 2010  hendrinx@jmu.edu\n",
       "1       ia300                   Seminar    isat 124  marrinsp@jmu.edu\n",
       "2       ia312           Causal Analysis    isat 120  hendrinx@jmu.edu\n",
       "3     c_new_n                c_new_name     c_new_r           p_new_e\n",
       "4       ia340               Data mining  engeo 2005           p_new_e\n",
       "5       ia480          Money Laundering  engeo 2050           p_new_e\n",
       "6  new_lab4_c                new_lab4_n  new_lab4_r    new_lab4_email"
      ]
     },
     "execution_count": 23,
     "metadata": {},
     "output_type": "execute_result"
    }
   ],
   "source": [
    "df=pandas.read_sql_query('select * from gp14.course',conn)\n",
    "df[:]"
   ]
  },
  {
   "cell_type": "markdown",
   "id": "80cf6bf3",
   "metadata": {},
   "source": [
    "# q6"
   ]
  },
  {
   "cell_type": "code",
   "execution_count": null,
   "id": "dae8a9e0",
   "metadata": {},
   "outputs": [],
   "source": [
    "q6_update_course_sql =\"\"\"\n",
    "                    update gp14.course\n",
    "                    set p_email = '{}'\n",
    "                    where p_email ='{}'\n",
    "                    \"\"\".format('new_lab4_email','t2@jmu.edu')"
   ]
  },
  {
   "cell_type": "code",
   "execution_count": null,
   "id": "1fe4d875",
   "metadata": {},
   "outputs": [],
   "source": [
    "cur.execute(q6_update_course_sql)"
   ]
  },
  {
   "cell_type": "code",
   "execution_count": null,
   "id": "5209b6ef",
   "metadata": {},
   "outputs": [],
   "source": [
    "conn.commit()"
   ]
  },
  {
   "cell_type": "code",
   "execution_count": 28,
   "id": "0879350c",
   "metadata": {},
   "outputs": [
    {
     "data": {
      "text/html": [
       "<div>\n",
       "<style scoped>\n",
       "    .dataframe tbody tr th:only-of-type {\n",
       "        vertical-align: middle;\n",
       "    }\n",
       "\n",
       "    .dataframe tbody tr th {\n",
       "        vertical-align: top;\n",
       "    }\n",
       "\n",
       "    .dataframe thead th {\n",
       "        text-align: right;\n",
       "    }\n",
       "</style>\n",
       "<table border=\"1\" class=\"dataframe\">\n",
       "  <thead>\n",
       "    <tr style=\"text-align: right;\">\n",
       "      <th></th>\n",
       "      <th>c_number</th>\n",
       "      <th>c_name</th>\n",
       "      <th>c_room</th>\n",
       "      <th>p_email</th>\n",
       "    </tr>\n",
       "  </thead>\n",
       "  <tbody>\n",
       "    <tr>\n",
       "      <th>0</th>\n",
       "      <td>ia313</td>\n",
       "      <td>Counterfactual Reasoning</td>\n",
       "      <td>engeo 2010</td>\n",
       "      <td>hendrinx@jmu.edu</td>\n",
       "    </tr>\n",
       "    <tr>\n",
       "      <th>1</th>\n",
       "      <td>ia300</td>\n",
       "      <td>Seminar</td>\n",
       "      <td>isat 124</td>\n",
       "      <td>marrinsp@jmu.edu</td>\n",
       "    </tr>\n",
       "    <tr>\n",
       "      <th>2</th>\n",
       "      <td>ia312</td>\n",
       "      <td>Causal Analysis</td>\n",
       "      <td>isat 120</td>\n",
       "      <td>hendrinx@jmu.edu</td>\n",
       "    </tr>\n",
       "    <tr>\n",
       "      <th>3</th>\n",
       "      <td>c_new_n</td>\n",
       "      <td>c_new_name</td>\n",
       "      <td>c_new_r</td>\n",
       "      <td>p_new_e</td>\n",
       "    </tr>\n",
       "    <tr>\n",
       "      <th>4</th>\n",
       "      <td>ia340</td>\n",
       "      <td>Data mining</td>\n",
       "      <td>engeo 2005</td>\n",
       "      <td>p_new_e</td>\n",
       "    </tr>\n",
       "    <tr>\n",
       "      <th>5</th>\n",
       "      <td>ia480</td>\n",
       "      <td>Money Laundering</td>\n",
       "      <td>engeo 2050</td>\n",
       "      <td>p_new_e</td>\n",
       "    </tr>\n",
       "    <tr>\n",
       "      <th>6</th>\n",
       "      <td>new_lab4_c</td>\n",
       "      <td>new_lab4_n</td>\n",
       "      <td>new_lab4_r</td>\n",
       "      <td>new_lab4_email</td>\n",
       "    </tr>\n",
       "  </tbody>\n",
       "</table>\n",
       "</div>"
      ],
      "text/plain": [
       "     c_number                    c_name      c_room           p_email\n",
       "0       ia313  Counterfactual Reasoning  engeo 2010  hendrinx@jmu.edu\n",
       "1       ia300                   Seminar    isat 124  marrinsp@jmu.edu\n",
       "2       ia312           Causal Analysis    isat 120  hendrinx@jmu.edu\n",
       "3     c_new_n                c_new_name     c_new_r           p_new_e\n",
       "4       ia340               Data mining  engeo 2005           p_new_e\n",
       "5       ia480          Money Laundering  engeo 2050           p_new_e\n",
       "6  new_lab4_c                new_lab4_n  new_lab4_r    new_lab4_email"
      ]
     },
     "execution_count": 28,
     "metadata": {},
     "output_type": "execute_result"
    }
   ],
   "source": [
    "df=pandas.read_sql_query('select * from gp14.course',conn)\n",
    "df[:]"
   ]
  },
  {
   "cell_type": "code",
   "execution_count": 29,
   "id": "0a63df53",
   "metadata": {},
   "outputs": [],
   "source": [
    "q6_delete_professor_sql = \"\"\"\n",
    "                            delete from gp14.professor\n",
    "                            where p_email='{}'\n",
    "                            \"\"\".format('t2@jmu.edu')"
   ]
  },
  {
   "cell_type": "code",
   "execution_count": 30,
   "id": "4ab07624",
   "metadata": {},
   "outputs": [],
   "source": [
    "cur.execute(q6_delete_professor_sql)"
   ]
  },
  {
   "cell_type": "code",
   "execution_count": 31,
   "id": "c8714d46",
   "metadata": {},
   "outputs": [],
   "source": [
    "conn.commit()"
   ]
  },
  {
   "cell_type": "code",
   "execution_count": 32,
   "id": "04b8fb4f",
   "metadata": {},
   "outputs": [
    {
     "data": {
      "text/html": [
       "<div>\n",
       "<style scoped>\n",
       "    .dataframe tbody tr th:only-of-type {\n",
       "        vertical-align: middle;\n",
       "    }\n",
       "\n",
       "    .dataframe tbody tr th {\n",
       "        vertical-align: top;\n",
       "    }\n",
       "\n",
       "    .dataframe thead th {\n",
       "        text-align: right;\n",
       "    }\n",
       "</style>\n",
       "<table border=\"1\" class=\"dataframe\">\n",
       "  <thead>\n",
       "    <tr style=\"text-align: right;\">\n",
       "      <th></th>\n",
       "      <th>p_email</th>\n",
       "      <th>p_name</th>\n",
       "      <th>p_office</th>\n",
       "    </tr>\n",
       "  </thead>\n",
       "  <tbody>\n",
       "    <tr>\n",
       "      <th>0</th>\n",
       "      <td>hendrinx@jmu.edu</td>\n",
       "      <td>Noel Hendrickson</td>\n",
       "      <td>125</td>\n",
       "    </tr>\n",
       "    <tr>\n",
       "      <th>1</th>\n",
       "      <td>bortolzj@jmu.edu</td>\n",
       "      <td>Zachary Bortolot</td>\n",
       "      <td>126</td>\n",
       "    </tr>\n",
       "    <tr>\n",
       "      <th>2</th>\n",
       "      <td>marrinsp@jmu.edu</td>\n",
       "      <td>Stephen Marrin</td>\n",
       "      <td>127</td>\n",
       "    </tr>\n",
       "    <tr>\n",
       "      <th>3</th>\n",
       "      <td>p_new_e</td>\n",
       "      <td>p_new_n</td>\n",
       "      <td>)_new_o</td>\n",
       "    </tr>\n",
       "    <tr>\n",
       "      <th>4</th>\n",
       "      <td>new_lab4_email</td>\n",
       "      <td>new_p_lab4_name</td>\n",
       "      <td>new_lab4_o</td>\n",
       "    </tr>\n",
       "  </tbody>\n",
       "</table>\n",
       "</div>"
      ],
      "text/plain": [
       "            p_email            p_name    p_office\n",
       "0  hendrinx@jmu.edu  Noel Hendrickson         125\n",
       "1  bortolzj@jmu.edu  Zachary Bortolot         126\n",
       "2  marrinsp@jmu.edu    Stephen Marrin         127\n",
       "3           p_new_e           p_new_n     )_new_o\n",
       "4    new_lab4_email   new_p_lab4_name  new_lab4_o"
      ]
     },
     "execution_count": 32,
     "metadata": {},
     "output_type": "execute_result"
    }
   ],
   "source": [
    "df=pandas.read_sql_query('select * from gp14.professor',conn)\n",
    "df[:]"
   ]
  },
  {
   "cell_type": "code",
   "execution_count": 33,
   "id": "0d624a52",
   "metadata": {},
   "outputs": [],
   "source": [
    "cur.close()"
   ]
  },
  {
   "cell_type": "code",
   "execution_count": 34,
   "id": "0619e082",
   "metadata": {},
   "outputs": [],
   "source": [
    "conn.close()"
   ]
  },
  {
   "cell_type": "code",
   "execution_count": null,
   "id": "080ee516",
   "metadata": {},
   "outputs": [],
   "source": []
  }
 ],
 "metadata": {
  "kernelspec": {
   "display_name": "conda_python3",
   "language": "python",
   "name": "conda_python3"
  },
  "language_info": {
   "codemirror_mode": {
    "name": "ipython",
    "version": 3
   },
   "file_extension": ".py",
   "mimetype": "text/x-python",
   "name": "python",
   "nbconvert_exporter": "python",
   "pygments_lexer": "ipython3",
   "version": "3.6.13"
  }
 },
 "nbformat": 4,
 "nbformat_minor": 5
}
